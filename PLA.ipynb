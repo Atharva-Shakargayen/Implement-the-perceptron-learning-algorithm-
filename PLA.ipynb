{
  "nbformat": 4,
  "nbformat_minor": 0,
  "metadata": {
    "colab": {
      "provenance": []
    },
    "kernelspec": {
      "name": "python3",
      "display_name": "Python 3"
    },
    "language_info": {
      "name": "python"
    }
  },
  "cells": [
    {
      "cell_type": "markdown",
      "source": [
        "2A))Perceptron Learning Algorithm 1A.Implement Perceptron learning algorithm for classification of following points {P0(-1,-1,-1) , P1(-1,-1,1) , P2(-1,1,-1) , P3(-1,1,1) ,P4(1,-1,-1) , P5(1,-1,1) , P6(1,1,-1) , P7(1,1,1) } in to two classes: C1= {P7 (1,1,1)} C2={P0(-1,-1,-1) , P1(-1,-1,1) , P2(-1,1,-1) , P3(-1,1,1) ,P4(1,-1,-1) , P5(1,-1,1) , P6(1,1,-1)}"
      ],
      "metadata": {
        "id": "ADJ1YSj_Yg2d"
      }
    },
    {
      "cell_type": "code",
      "source": [
        "import numpy as np\n",
        "\n",
        "data_points = {\n",
        "\n",
        "    'P0': np.array([-1, -1, -1]),\n",
        "    'P1': np.array([-1,-1,1]),\n",
        "    'P2': np.array([-1, 1, -1]),\n",
        "    'P3': np.array([-1, 1, 1]),\n",
        "    'P4': np.array([1, -1, -1]),\n",
        "    'P5': np.array([1, -1, 1]),\n",
        "    'P6': np.array([1, 1, -1]),\n",
        "    'P7': np.array([1, 1, 1]),\n",
        "}\n",
        "c1 = ['P7']\n",
        "c2 = ['P0','P1', 'P2', 'P3', 'P4', 'P5','P6']\n",
        "\n",
        "def step(input_sum, threshold):\n",
        "  if input_sum > threshold:\n",
        "    return 1\n",
        "  else:\n",
        "    return 0\n",
        "\n",
        "def perceptron(inputs, weights, bias):\n",
        "  input_sum = np.dot(inputs, weights) + bias\n",
        "  return step(input_sum, 0)\n",
        "\n",
        "def train_perceptron(data_points, c1, c2, learning_rate=0.5):\n",
        "  weights = np.array([0, 0, 0], dtype=float)\n",
        "  bias = 0.0\n",
        "\n",
        "  while True:\n",
        "    misclassified_count = 0\n",
        "    for point_name, point_data in data_points.items():\n",
        "      expected_output = 0 if point_name in c1 else 1\n",
        "      actual_output = perceptron(point_data, weights, bias)\n",
        "\n",
        "      if actual_output != expected_output:\n",
        "        misclassified_count += 1\n",
        "        weights = weights + learning_rate * (expected_output - actual_output) * point_data\n",
        "        bias = bias + learning_rate * (expected_output - actual_output)\n",
        "\n",
        "    if misclassified_count == 0:\n",
        "      break\n",
        "\n",
        "  return weights, bias\n",
        "\n",
        "weights, bias = train_perceptron(data_points, c1, c2)\n",
        "print(\"Optimized Weights:\", weights)\n",
        "print(\"Optimized Bias:\", bias)"
      ],
      "metadata": {
        "colab": {
          "base_uri": "https://localhost:8080/"
        },
        "id": "3V27DVSNYhic",
        "outputId": "e6fb466b-6aba-4561-cd69-40e5f3cec73f"
      },
      "execution_count": null,
      "outputs": [
        {
          "output_type": "stream",
          "name": "stdout",
          "text": [
            "Optimized Weights: [-0.5 -0.5 -0.5]\n",
            "Optimized Bias: 1.5\n"
          ]
        }
      ]
    },
    {
      "cell_type": "code",
      "source": [
        "#Nand gate\n",
        "def step(input_sum,threshold):\n",
        "  if(input_sum >threshold):\n",
        "    return 1\n",
        "  else:\n",
        "    return 0\n",
        "def nand_per(inputs,weight):\n",
        "  inputs_sum=0\n",
        "  threshold=0\n",
        "  bias=1.5   #can be2.5 also\n",
        "  for i in range(len(inputs)):\n",
        "    inputs_sum+=inputs[i]*weight[i]\n",
        "  return step(inputs_sum+bias,threshold)\n",
        "inputs=[[-1, -1, -1],[-1,-1,1],[-1, 1, -1],[-1, 1, 1],[1, -1, -1],[1, -1, 1],[1, 1, -1],[1, 1, 1]]\n",
        "for i in inputs:\n",
        "  weight=[-0.5,-0.5,-0.5]\n",
        "  print(i,\"=\",nand_per(i,weight))"
      ],
      "metadata": {
        "colab": {
          "base_uri": "https://localhost:8080/"
        },
        "id": "NywIFrsJYjyU",
        "outputId": "20def0b4-bb83-4e9b-866d-76275a41b76f"
      },
      "execution_count": null,
      "outputs": [
        {
          "output_type": "stream",
          "name": "stdout",
          "text": [
            "[-1, -1, -1] = 1\n",
            "[-1, -1, 1] = 1\n",
            "[-1, 1, -1] = 1\n",
            "[-1, 1, 1] = 1\n",
            "[1, -1, -1] = 1\n",
            "[1, -1, 1] = 1\n",
            "[1, 1, -1] = 1\n",
            "[1, 1, 1] = 0\n"
          ]
        }
      ]
    },
    {
      "cell_type": "code",
      "source": [],
      "metadata": {
        "id": "4I8B1oAsYn8q"
      },
      "execution_count": null,
      "outputs": []
    },
    {
      "cell_type": "markdown",
      "source": [
        "2B))Write a python program to find the number of linearly separable problems out of total binary classification problems on {P0(-1,-1,-1) , P1(-1,-1,1) , P2(-1,1,-1) , P3(-1,1,1) ,P4(1,-1,-1) , P5(1,-1,1) , P6(1,1,-1) , P7(1,1,1) }."
      ],
      "metadata": {
        "id": "n7QlFhxWYsZb"
      }
    },
    {
      "cell_type": "code",
      "source": [
        "from sklearn.svm import SVC\n",
        "import numpy as np\n",
        "from itertools import product\n",
        "\n",
        "# Define the coordinates of the points\n",
        "points = np.array([[-1, -1, -1],\n",
        "                   [-1, -1, 1],\n",
        "                   [-1, 1, -1],\n",
        "                   [-1, 1, 1],\n",
        "                   [1, -1, -1],\n",
        "                   [1, -1, 1],\n",
        "                   [1, 1, -1],\n",
        "                   [1, 1, 1]])\n",
        "\n",
        "# Function to check if a labeling is linearly separable\n",
        "def is_linearly_separable(labels):\n",
        "    # Initialize the SVM classifier with a linear kernel\n",
        "    clf = SVC(kernel='linear')\n",
        "    try:\n",
        "        # Train the classifier on the points and labels\n",
        "        clf.fit(points, labels)\n",
        "        return True\n",
        "    except:\n",
        "        return False\n",
        "\n",
        "# Generate all possible labelings (binary labels for 8 points)\n",
        "labelings = product([0, 1], repeat=8)\n",
        "\n",
        "# Count the number of linearly separable labelings\n",
        "separable_count = 0\n",
        "for labeling in labelings:\n",
        "    if is_linearly_separable(np.array(labeling)):\n",
        "        separable_count += 1\n",
        "\n",
        "print(f\"Number of linearly separable problems: {separable_count}\")\n"
      ],
      "metadata": {
        "colab": {
          "base_uri": "https://localhost:8080/"
        },
        "id": "bqVxe8HeYs-L",
        "outputId": "23fe7dd9-dc68-44c4-e97b-e2efd35cff73"
      },
      "execution_count": null,
      "outputs": [
        {
          "output_type": "stream",
          "name": "stdout",
          "text": [
            "Number of linearly separable problems: 254\n"
          ]
        }
      ]
    },
    {
      "cell_type": "code",
      "source": [],
      "metadata": {
        "id": "Vyan8MjyYvgi"
      },
      "execution_count": null,
      "outputs": []
    }
  ]
}